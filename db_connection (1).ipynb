{
 "cells": [
  {
   "cell_type": "code",
   "execution_count": null,
   "id": "5744cbbb-a327-438f-9542-92c9194d0bda",
   "metadata": {},
   "outputs": [],
   "source": [
    "!pip install sagemaker\n",
    "!pip install boto3\n",
    "!pip install pandas\n",
    "!pip install pyodbc sqlalchemy\n",
    "\n",
    "# install ODBC\n",
    "!sudo su -c \"curl https://packages.microsoft.com/config/rhel/7/prod.repo > /etc/yum.repos.d/mssql-release.repo\"\n",
    "!sudo yum remove unixODBC-utf16 -y\n",
    "!sudo ACCEPT_EULA=Y yum install -y msodbcsql17\n",
    "\n",
    "# Install unixODBC and pyodbc\n",
    "!sudo yum install -y unixODBC unixODBC-devel gcc gcc-c++ \n",
    "!pip install pyodbc"
   ]
  },
  {
   "cell_type": "code",
   "execution_count": 19,
   "id": "e716767c-7c36-4252-af3f-541274ec5785",
   "metadata": {},
   "outputs": [
    {
     "data": {
      "text/plain": [
       "'arn:aws:iam::905418122102:role/service-role/AmazonSageMakerServiceCatalogProductsUseRole'"
      ]
     },
     "execution_count": 19,
     "metadata": {},
     "output_type": "execute_result"
    }
   ],
   "source": [
    "import sagemaker\n",
    "import boto3\n",
    "import pandas as pd\n",
    "from io import StringIO\n",
    "\n",
    "sagemaker.get_execution_role()"
   ]
  },
  {
   "cell_type": "code",
   "execution_count": 3,
   "id": "3d6871ff-f4b3-4f14-97d4-c07f3cc7a8d8",
   "metadata": {},
   "outputs": [],
   "source": [
    "bucket = 'sagemaker-agd'\n",
    "key = 'pet_adoption_center.csv'\n",
    "s3 = boto3.client('s3')\n",
    "response = s3.get_object(Bucket=bucket, Key=key)\n",
    "df = pd.read_csv(StringIO(response['Body'].read().decode('utf-8')))\n"
   ]
  },
  {
   "cell_type": "code",
   "execution_count": 4,
   "id": "1492c5f5-d699-4e2c-83bf-5fd13a0dc640",
   "metadata": {},
   "outputs": [
    {
     "data": {
      "text/html": [
       "<div>\n",
       "<style scoped>\n",
       "    .dataframe tbody tr th:only-of-type {\n",
       "        vertical-align: middle;\n",
       "    }\n",
       "\n",
       "    .dataframe tbody tr th {\n",
       "        vertical-align: top;\n",
       "    }\n",
       "\n",
       "    .dataframe thead th {\n",
       "        text-align: right;\n",
       "    }\n",
       "</style>\n",
       "<table border=\"1\" class=\"dataframe\">\n",
       "  <thead>\n",
       "    <tr style=\"text-align: right;\">\n",
       "      <th></th>\n",
       "      <th>pet_id</th>\n",
       "      <th>pet_name</th>\n",
       "      <th>species</th>\n",
       "      <th>breed</th>\n",
       "      <th>age_years</th>\n",
       "      <th>gender</th>\n",
       "      <th>color</th>\n",
       "      <th>arrival_date</th>\n",
       "      <th>adopted</th>\n",
       "      <th>adoption_date</th>\n",
       "      <th>adopter_id</th>\n",
       "      <th>adopter_name</th>\n",
       "      <th>adopter_age</th>\n",
       "      <th>adopter_city</th>\n",
       "      <th>adopter_previous_pets</th>\n",
       "    </tr>\n",
       "  </thead>\n",
       "  <tbody>\n",
       "    <tr>\n",
       "      <th>0</th>\n",
       "      <td>P0001</td>\n",
       "      <td>Sandra</td>\n",
       "      <td>Dog</td>\n",
       "      <td>Yorkshire Terrier</td>\n",
       "      <td>2</td>\n",
       "      <td>Female</td>\n",
       "      <td>White</td>\n",
       "      <td>2024-10-10</td>\n",
       "      <td>True</td>\n",
       "      <td>2025-03-11</td>\n",
       "      <td>A0001</td>\n",
       "      <td>Megan Rogers</td>\n",
       "      <td>56</td>\n",
       "      <td>Mcgeestad</td>\n",
       "      <td>1</td>\n",
       "    </tr>\n",
       "    <tr>\n",
       "      <th>1</th>\n",
       "      <td>P0002</td>\n",
       "      <td>Brian</td>\n",
       "      <td>Cat</td>\n",
       "      <td>Tonkinese</td>\n",
       "      <td>1</td>\n",
       "      <td>Female</td>\n",
       "      <td>Golden</td>\n",
       "      <td>2023-09-09</td>\n",
       "      <td>True</td>\n",
       "      <td>2024-02-10</td>\n",
       "      <td>A0002</td>\n",
       "      <td>Jonathan Hawkins</td>\n",
       "      <td>18</td>\n",
       "      <td>Geneshire</td>\n",
       "      <td>2</td>\n",
       "    </tr>\n",
       "    <tr>\n",
       "      <th>2</th>\n",
       "      <td>P0003</td>\n",
       "      <td>Timothy</td>\n",
       "      <td>Bird</td>\n",
       "      <td>Amazon Parrot</td>\n",
       "      <td>4</td>\n",
       "      <td>Male</td>\n",
       "      <td>Spotted</td>\n",
       "      <td>2023-10-03</td>\n",
       "      <td>False</td>\n",
       "      <td>2023-10-17</td>\n",
       "      <td>NaN</td>\n",
       "      <td>NaN</td>\n",
       "      <td>-1</td>\n",
       "      <td>NaN</td>\n",
       "      <td>0</td>\n",
       "    </tr>\n",
       "    <tr>\n",
       "      <th>3</th>\n",
       "      <td>P0004</td>\n",
       "      <td>Karl</td>\n",
       "      <td>Dog</td>\n",
       "      <td>German Shepherd</td>\n",
       "      <td>1</td>\n",
       "      <td>Female</td>\n",
       "      <td>White</td>\n",
       "      <td>2024-07-28</td>\n",
       "      <td>True</td>\n",
       "      <td>2024-08-12</td>\n",
       "      <td>A0004</td>\n",
       "      <td>Natalie Rivera</td>\n",
       "      <td>51</td>\n",
       "      <td>North Richard</td>\n",
       "      <td>3</td>\n",
       "    </tr>\n",
       "    <tr>\n",
       "      <th>4</th>\n",
       "      <td>P0005</td>\n",
       "      <td>Sarah</td>\n",
       "      <td>Rabbit</td>\n",
       "      <td>Dutch</td>\n",
       "      <td>1</td>\n",
       "      <td>Female</td>\n",
       "      <td>Spotted</td>\n",
       "      <td>2024-02-21</td>\n",
       "      <td>False</td>\n",
       "      <td>2024-02-26</td>\n",
       "      <td>NaN</td>\n",
       "      <td>NaN</td>\n",
       "      <td>-1</td>\n",
       "      <td>NaN</td>\n",
       "      <td>0</td>\n",
       "    </tr>\n",
       "  </tbody>\n",
       "</table>\n",
       "</div>"
      ],
      "text/plain": [
       "  pet_id pet_name species              breed  age_years  gender    color  \\\n",
       "0  P0001   Sandra     Dog  Yorkshire Terrier          2  Female    White   \n",
       "1  P0002    Brian     Cat          Tonkinese          1  Female   Golden   \n",
       "2  P0003  Timothy    Bird      Amazon Parrot          4    Male  Spotted   \n",
       "3  P0004     Karl     Dog    German Shepherd          1  Female    White   \n",
       "4  P0005    Sarah  Rabbit              Dutch          1  Female  Spotted   \n",
       "\n",
       "  arrival_date  adopted adoption_date adopter_id      adopter_name  \\\n",
       "0   2024-10-10     True    2025-03-11      A0001      Megan Rogers   \n",
       "1   2023-09-09     True    2024-02-10      A0002  Jonathan Hawkins   \n",
       "2   2023-10-03    False    2023-10-17        NaN               NaN   \n",
       "3   2024-07-28     True    2024-08-12      A0004    Natalie Rivera   \n",
       "4   2024-02-21    False    2024-02-26        NaN               NaN   \n",
       "\n",
       "   adopter_age   adopter_city  adopter_previous_pets  \n",
       "0           56      Mcgeestad                      1  \n",
       "1           18      Geneshire                      2  \n",
       "2           -1            NaN                      0  \n",
       "3           51  North Richard                      3  \n",
       "4           -1            NaN                      0  "
      ]
     },
     "execution_count": 4,
     "metadata": {},
     "output_type": "execute_result"
    }
   ],
   "source": [
    "df.head()\n"
   ]
  },
  {
   "cell_type": "code",
   "execution_count": 5,
   "id": "5463e62a-b24a-4970-8c7c-d1fd80d30bba",
   "metadata": {},
   "outputs": [
    {
     "name": "stdout",
     "output_type": "stream",
     "text": [
      "admin\n",
      "SzH~0(~GCgajymUDtn??DcKB*9B5\n"
     ]
    }
   ],
   "source": [
    "import json\n",
    "secret_name = 'rds!db-59c6932b-113f-421a-ae20-51a26fc48d8d'\n",
    "region_name = 'us-east-1'\n",
    "\n",
    "session = boto3.session.Session()\n",
    "client = session.client(service_name='secretsmanager', region_name=region_name)\n",
    "\n",
    "response = client.get_secret_value(SecretId=secret_name)\n",
    "secret = json.loads(response['SecretString'])\n",
    "\n",
    "username = secret['username']\n",
    "password = secret['password']\n",
    "\n",
    "print(username)\n",
    "print(password)"
   ]
  },
  {
   "cell_type": "code",
   "execution_count": 14,
   "id": "f8e32a1b-df79-4e18-8b51-030856149ad5",
   "metadata": {},
   "outputs": [],
   "source": [
    "import sqlalchemy\n",
    "from sqlalchemy import text\n",
    "\n",
    "# connect to DB\n",
    "endpoint = 'agd-sqlserver-express.cg1ugiyqy9d8.us-east-1.rds.amazonaws.com'\n",
    "database = 'mydata'\n",
    "\n",
    "conn_str = (\n",
    "    f\"mssql+pyodbc://{username}:{password}@{endpoint}:1433/{database}\"\n",
    "    f\"?driver=ODBC+Driver+17+for+SQL+Server\"\n",
    ")\n",
    "\n",
    "engine = sqlalchemy.create_engine(conn_str)\n"
   ]
  },
  {
   "cell_type": "code",
   "execution_count": 17,
   "id": "230cce19-93c9-451f-8822-d4d88ef11cee",
   "metadata": {},
   "outputs": [
    {
     "name": "stdout",
     "output_type": "stream",
     "text": [
      "Row count: 200\n"
     ]
    }
   ],
   "source": [
    "# export data to DB\n",
    "df.to_sql('pet_adoption_center', engine, if_exists='replace', index=False)\n",
    "\n",
    "\n",
    "with engine.connect() as conn:\n",
    "    result = conn.execute(text(\"SELECT COUNT(*) FROM pet_adoption_center\"))\n",
    "    count = result.scalar()\n",
    "    print(\"Row count:\", count)"
   ]
  },
  {
   "cell_type": "code",
   "execution_count": 18,
   "id": "010b3e16-b975-4edf-a0f4-3c36c1e1edaa",
   "metadata": {},
   "outputs": [
    {
     "name": "stdout",
     "output_type": "stream",
     "text": [
      "Upladed to s3://sagemaker-agd/exportdata.csv\n"
     ]
    }
   ],
   "source": [
    "# export to s3\n",
    "\n",
    "local_path = '/tmp/exportdata.csv'\n",
    "df.to_csv(local_path, index=False)\n",
    "\n",
    "s3 = boto3.client('s3')\n",
    "bucket = 'sagemaker-agd'\n",
    "s3_path = 'exportdata.csv'\n",
    "s3.upload_file(local_path, bucket, s3_path)\n",
    "print(f\"Upladed to s3://{bucket}/{s3_path}\")"
   ]
  },
  {
   "cell_type": "code",
   "execution_count": null,
   "id": "ab52b10f-abfc-4e2c-a9a2-e22c9dd9b004",
   "metadata": {},
   "outputs": [],
   "source": [
    "# import from DB\n",
    "table_name = 'pet_adoption_center'\n",
    "\n",
    "# Simple SELECT query\n",
    "query = f\"SELECT * FROM {table_name}\"\n",
    "\n",
    "# Read into DataFrame\n",
    "df = pd.read_sql(query, con=engine)\n",
    "\n",
    "# Preview\n",
    "df.head()"
   ]
  }
 ],
 "metadata": {
  "kernelspec": {
   "display_name": "conda_python3",
   "language": "python",
   "name": "conda_python3"
  },
  "language_info": {
   "codemirror_mode": {
    "name": "ipython",
    "version": 3
   },
   "file_extension": ".py",
   "mimetype": "text/x-python",
   "name": "python",
   "nbconvert_exporter": "python",
   "pygments_lexer": "ipython3",
   "version": "3.10.18"
  }
 },
 "nbformat": 4,
 "nbformat_minor": 5
}
